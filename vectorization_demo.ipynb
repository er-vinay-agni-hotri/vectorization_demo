{
 "cells": [
  {
   "cell_type": "code",
   "execution_count": 2,
   "id": "8230126c",
   "metadata": {},
   "outputs": [
    {
     "name": "stdout",
     "output_type": "stream",
     "text": [
      "[1 2 3 4 5]\n"
     ]
    }
   ],
   "source": [
    "import numpy as np\n",
    "a = np.array([1,2,3,4,5])\n",
    "print(a)\n"
   ]
  },
  {
   "cell_type": "code",
   "execution_count": 8,
   "id": "1a4c4e91",
   "metadata": {},
   "outputs": [
    {
     "name": "stdout",
     "output_type": "stream",
     "text": [
      "250174.96262342733\n",
      "Vectorized version:  1.1439323425292969  ms\n",
      "250174.96262342358\n",
      "For loop:  364.7317886352539  ms\n"
     ]
    }
   ],
   "source": [
    "import time\n",
    "a = np.random.rand(1000000)\n",
    "b = np.random.rand(1000000)\n",
    "\n",
    "tic = time.time()\n",
    "c= np.dot(a,b)\n",
    "toc = time.time()\n",
    "print(c)\n",
    "print(\"Vectorized version: \", str(1000*(toc-tic)), \" ms\")\n",
    "\n",
    "c = 0\n",
    "\n",
    "tic = time.time()\n",
    "for i in range(1000000):\n",
    "    c+=a[i]*b[i]\n",
    "    \n",
    "toc=time.time()\n",
    "print(c)\n",
    "print(\"For loop: \", str(1000*(toc-tic)), \" ms\")"
   ]
  },
  {
   "cell_type": "code",
   "execution_count": 12,
   "id": "c814721d",
   "metadata": {},
   "outputs": [
    {
     "name": "stdout",
     "output_type": "stream",
     "text": [
      "exponential of v :  [  2.71828183   7.3890561   20.08553692  54.59815003 148.4131591 ]\n",
      "log of v :  [0.         0.69314718 1.09861229 1.38629436 1.60943791]\n",
      "absolutee of v :  [1 2 3 4 5]\n",
      "Max of v :  [1 2 3 4 5]\n"
     ]
    }
   ],
   "source": [
    "v = np.array([1,2,3,4,5])\n",
    "u = np.exp(v)\n",
    "\n",
    "print(\"exponential of v : \" ,u)\n",
    "print(\"log of v : \" ,np.log(v))\n",
    "print(\"absolutee of v : \" ,np.abs(v))\n",
    "print(\"Max of v : \" ,np.maximum(v,0))\n"
   ]
  },
  {
   "cell_type": "code",
   "execution_count": null,
   "id": "b0ba5cd3",
   "metadata": {},
   "outputs": [],
   "source": []
  }
 ],
 "metadata": {
  "kernelspec": {
   "display_name": "Python 3 (ipykernel)",
   "language": "python",
   "name": "python3"
  },
  "language_info": {
   "codemirror_mode": {
    "name": "ipython",
    "version": 3
   },
   "file_extension": ".py",
   "mimetype": "text/x-python",
   "name": "python",
   "nbconvert_exporter": "python",
   "pygments_lexer": "ipython3",
   "version": "3.9.12"
  }
 },
 "nbformat": 4,
 "nbformat_minor": 5
}
